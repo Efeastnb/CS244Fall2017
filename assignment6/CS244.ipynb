{
 "cells": [
  {
   "cell_type": "code",
   "execution_count": 7,
   "metadata": {
    "collapsed": true
   },
   "outputs": [],
   "source": [
    "# Load libraries\n",
    "import pandas\n",
    "import numpy\n",
    "from pandas.tools.plotting import scatter_matrix\n",
    "import matplotlib.pyplot as plt\n",
    "from sklearn import model_selection\n",
    "from sklearn.metrics import classification_report\n",
    "from sklearn.metrics import confusion_matrix\n",
    "from sklearn.metrics import accuracy_score\n",
    "from sklearn.linear_model import LogisticRegression\n",
    "from sklearn.tree import DecisionTreeClassifier\n",
    "from sklearn.neighbors import KNeighborsClassifier\n",
    "from sklearn.discriminant_analysis import LinearDiscriminantAnalysis\n",
    "from sklearn.naive_bayes import GaussianNB\n",
    "from sklearn.svm import SVC"
   ]
  },
  {
   "cell_type": "code",
   "execution_count": 8,
   "metadata": {
    "collapsed": true
   },
   "outputs": [],
   "source": [
    "# Load dataset\n",
    "url = \"/Users/bo/Desktop/sample.csv\"\n",
    "dataset = pandas.read_csv(url,error_bad_lines=False)"
   ]
  },
  {
   "cell_type": "code",
   "execution_count": 12,
   "metadata": {
    "collapsed": true
   },
   "outputs": [],
   "source": [
    "array= dataset.values\n",
    "#print(dataset.head(20))\n",
    "\n",
    "X0 = array[:,0:3]\n",
    "Y0 = array[:,5]\n",
    "\n",
    "X1 = array[:,6:9]\n",
    "Y1 = array[:,11]\n",
    "\n",
    "X2 = array[:,12:15]\n",
    "Y2 = array[:,17]\n",
    "\n",
    "X3 = array[:,18:21]\n",
    "Y3 = array[:,23]\n",
    "\n",
    "#X4 = array[:,17:20]\n",
    "#Y4 = array[:,20]\n",
    "\n",
    "X = numpy.concatenate((X0,X1,X2,X3),axis=0)\n",
    "Y = numpy.concatenate((Y0,Y1,Y2,Y3),axis=0)\n",
    "\n",
    "validation_size = 0.20\n",
    "seed = 7\n",
    "X_train, X_validation, Y_train, Y_validation = model_selection.train_test_split(X, Y, test_size=validation_size, random_state=seed)\n",
    "\n"
   ]
  },
  {
   "cell_type": "code",
   "execution_count": 13,
   "metadata": {},
   "outputs": [
    {
     "name": "stdout",
     "output_type": "stream",
     "text": [
      "0.998693766654\n",
      "0.998746081505\n"
     ]
    }
   ],
   "source": [
    "svm = SVC()\n",
    "svm.fit(X_train,Y_train)\n",
    "predictions = svm.predict(X_validation)\n",
    "#print(predictions)\n",
    "predic_train = svm.predict(X_train)\n",
    "print(accuracy_score(Y_train, predic_train))\n",
    "print(accuracy_score(Y_validation, predictions))"
   ]
  },
  {
   "cell_type": "code",
   "execution_count": null,
   "metadata": {
    "collapsed": true
   },
   "outputs": [],
   "source": []
  }
 ],
 "metadata": {
  "kernelspec": {
   "display_name": "Python 2",
   "language": "python",
   "name": "python2"
  },
  "language_info": {
   "codemirror_mode": {
    "name": "ipython",
    "version": 2
   },
   "file_extension": ".py",
   "mimetype": "text/x-python",
   "name": "python",
   "nbconvert_exporter": "python",
   "pygments_lexer": "ipython2",
   "version": "2.7.13"
  }
 },
 "nbformat": 4,
 "nbformat_minor": 2
}
